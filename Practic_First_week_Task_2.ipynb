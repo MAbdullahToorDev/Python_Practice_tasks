{
 "cells": [
  {
   "cell_type": "markdown",
   "id": "d56e3801",
   "metadata": {},
   "source": [
    "Takes a user input as a string."
   ]
  },
  {
   "cell_type": "code",
   "execution_count": 5,
   "id": "612c48ed",
   "metadata": {},
   "outputs": [
    {
     "name": "stdout",
     "output_type": "stream",
     "text": [
      "abdullah\n"
     ]
    }
   ],
   "source": [
    "name = input(\"Enter your Name: \")\n",
    "print(name)"
   ]
  },
  {
   "cell_type": "markdown",
   "id": "64f0d489",
   "metadata": {},
   "source": [
    "Casts the input to an integer if possible, otherwise prints an error."
   ]
  },
  {
   "cell_type": "code",
   "execution_count": 8,
   "id": "20c1b13a",
   "metadata": {},
   "outputs": [
    {
     "name": "stdout",
     "output_type": "stream",
     "text": [
      "prints an error\n"
     ]
    }
   ],
   "source": [
    "try:\n",
    "    int_name = int(name)\n",
    "    print(int_name)\n",
    "except ValueError:\n",
    "    print(\"prints an error\")    "
   ]
  },
  {
   "cell_type": "markdown",
   "id": "a7924597",
   "metadata": {},
   "source": [
    "Performs some arithmetic operations on the number."
   ]
  },
  {
   "cell_type": "code",
   "execution_count": 13,
   "id": "5998fb79",
   "metadata": {},
   "outputs": [
    {
     "name": "stdout",
     "output_type": "stream",
     "text": [
      "Add =  10\n",
      "sub =  -2\n",
      "Multply =  24\n",
      "Divide =  0.6666666666666666\n",
      "Reminder =  4\n",
      "Floor Division =  0\n",
      "Exponention =  4096\n"
     ]
    }
   ],
   "source": [
    "num = int(input(\"Enter first intiger\"))\n",
    "num_2 = int(input(\"Enter second intiger\"))\n",
    "add = num + num_2\n",
    "sub = num - num_2\n",
    "Multply = num * num_2\n",
    "divide = num / num_2\n",
    "reminder = num % num_2 # Remainder of division\n",
    "floor_division = num // num_2 # Division without remainder\n",
    "Exponentiation = num ** num_2\n",
    "print(\"Add = \", add)\n",
    "print(\"sub = \", sub)\n",
    "print(\"Multply = \", Multply)\n",
    "print(\"Divide = \" ,divide)\n",
    "print(\"Reminder = \",reminder)\n",
    "print(\"Floor Division = \",floor_division)\n",
    "print(\"Exponention = \", Exponentiation)\n"
   ]
  },
  {
   "cell_type": "markdown",
   "id": "c626e0a3",
   "metadata": {},
   "source": [
    "Checks multiple comparison and boolean conditions to determine if the user has \"Access\"."
   ]
  },
  {
   "cell_type": "code",
   "execution_count": 23,
   "id": "3917dec5",
   "metadata": {},
   "outputs": [],
   "source": [
    "ur_name = input(\"Enter your Name\")\n",
    "ur_age = int(input(\"Enter Your Age \"))\n",
    "ur_id = int(input(\"Enter Your ID \"))\n",
    "ur_country = input(\"Enter your Country Name\")"
   ]
  },
  {
   "cell_type": "markdown",
   "id": "1cc3aec1",
   "metadata": {},
   "source": [
    "comparison operators :"
   ]
  },
  {
   "cell_type": "code",
   "execution_count": 24,
   "id": "a228f54b",
   "metadata": {},
   "outputs": [
    {
     "name": "stdout",
     "output_type": "stream",
     "text": [
      "You are eligible for driving licence \n",
      "You are eligible for  government Job\n",
      "You are   eligible for driving licence\n",
      "You are  Adult  \n",
      "You are   eligible for  government Job\n",
      "You are  eligible for driving licence\n"
     ]
    }
   ],
   "source": [
    "if ur_id == 21 :\n",
    "    print(\"You are eligible for driving licence \")\n",
    "else:    \n",
    "    print( \"You are not  eligible for driving licence\")\n",
    "\n",
    "if ur_age != 32 :\n",
    "    print(\"You are eligible for  government Job\")\n",
    "else:    \n",
    "    print( \"You are not  eligible for  government Job\")\n",
    "\n",
    "if ur_age > 70 :\n",
    "    print(\"You are not  eligible for driving licence \")\n",
    "else:    \n",
    "    print( \"You are   eligible for driving licence\")\n",
    "\n",
    "if ur_age < 15 :\n",
    "    print(\"Maybe You are Adult \")\n",
    "else:    \n",
    "    print( \"You are  Adult  \")\n",
    "\n",
    "if ur_age >= 32 :\n",
    "    print(\"You are not  eligible for  government Job\")\n",
    "else:    \n",
    "    print( \"You are   eligible for  government Job\")   \n",
    "if ur_age <= 17 :\n",
    "    print(\"You are not  eligible for driving licence\")\n",
    "else:    \n",
    "    print( \"You are  eligible for driving licence\")   "
   ]
  },
  {
   "cell_type": "markdown",
   "id": "e0518830",
   "metadata": {},
   "source": [
    "Boolean conditions :"
   ]
  },
  {
   "cell_type": "code",
   "execution_count": 25,
   "id": "ab93795b",
   "metadata": {},
   "outputs": [
    {
     "name": "stdout",
     "output_type": "stream",
     "text": [
      "you are over company employ \n",
      "You can apply for job\n"
     ]
    }
   ],
   "source": [
    "if ur_age >= 18 and ur_id == 21 :\n",
    "    print(\"you are over company employ \")\n",
    "else:\n",
    "    print(\"you are not over company employ \")\n",
    "if ur_country == \"pakistan\" or ur_country ==\"india\" :\n",
    "    print(\"You can apply for job\")\n",
    "\n",
    "if not (ur_country == \"pakistan\"):\n",
    "    print(\"You are not from pakistan\")\n",
    "    \n",
    "\n",
    "   \n",
    "    "
   ]
  },
  {
   "cell_type": "markdown",
   "id": "27fa9bf4",
   "metadata": {},
   "source": [
    "Uses bitwise operators on the number."
   ]
  },
  {
   "cell_type": "code",
   "execution_count": 28,
   "id": "960cdfa5",
   "metadata": {},
   "outputs": [
    {
     "name": "stdout",
     "output_type": "stream",
     "text": [
      "Bitwise AND  4\n",
      "Bitwise OR  6\n",
      "Bitwise XOR  2\n",
      "Bitwise NOT  -7\n",
      "Bitwise Left Shift  256\n",
      "Bitwise Right Shift  0\n"
     ]
    }
   ],
   "source": [
    "num_3 = int(input(\"Enter 3rd intiger\"))\n",
    "num_4 = int(input(\"Enter 4th intiger\"))\n",
    "print(\"Bitwise AND \",num_3 & num_4)\n",
    "print(\"Bitwise OR \",num_3 | num_4)\n",
    "print(\"Bitwise XOR \",num_3 ^ num_4)\n",
    "print(\"Bitwise NOT \", ~ num_4)\n",
    "print(\"Bitwise Left Shift \",num_3 << num_4)\n",
    "print(\"Bitwise Right Shift \",num_3 >> num_4)\n",
    "\n",
    "\n",
    "\n"
   ]
  },
  {
   "cell_type": "markdown",
   "id": "105688d6",
   "metadata": {},
   "source": [
    "Checks if the number is in a given list using the membership operator."
   ]
  },
  {
   "cell_type": "code",
   "execution_count": null,
   "id": "03dc904d",
   "metadata": {},
   "outputs": [
    {
     "name": "stdout",
     "output_type": "stream",
     "text": [
      "this number in list\n",
      "'ll' is in your name\n",
      "Value is None\n"
     ]
    }
   ],
   "source": [
    "n_list = [1,2,3,4,5,6,7,8,9,1]\n",
    "n = int(input(\"Enter an intiger\"))\n",
    "\n",
    "if n in n_list:\n",
    "    print(\"this number in list\")\n",
    "else:\n",
    "    print(\"this number is not in list\")  \n",
    "\n",
    "if \"ll\" not in ur_name:\n",
    "    print(\"'ll' is NOT in your name\")\n",
    "else:\n",
    "    print(\"'ll' is in your name\") \n"
   ]
  },
  {
   "cell_type": "markdown",
   "id": "d099751e",
   "metadata": {},
   "source": [
    "Compares objects using the identity operator."
   ]
  },
  {
   "cell_type": "code",
   "execution_count": null,
   "id": "241c68e7",
   "metadata": {},
   "outputs": [
    {
     "name": "stdout",
     "output_type": "stream",
     "text": [
      "Value is None\n",
      "Value_n is not string\n"
     ]
    }
   ],
   "source": [
    "value = None\n",
    "value_s = int(input(\"enter a value\"))\n",
    "if value is None:\n",
    "    print(\"Value is None\")\n",
    "    \n",
    "if value_s is not str():\n",
    "    print(\"Value_n is not string\")\n",
    "\n"
   ]
  },
  {
   "cell_type": "markdown",
   "id": "bbde254c",
   "metadata": {},
   "source": [
    "Finally, prints \"Access Granted\" or \"Denied\" using a ternary operator."
   ]
  },
  {
   "cell_type": "code",
   "execution_count": 39,
   "id": "631b1fbb",
   "metadata": {},
   "outputs": [
    {
     "name": "stdout",
     "output_type": "stream",
     "text": [
      "Access Denied\n",
      "you need to struggle more and try again\n"
     ]
    }
   ],
   "source": [
    "\n",
    "age = int(input(\"Enter your age\"))\n",
    "print(\"Access Granted\" if age >= 18 else \"Access Denied\")\n",
    "\n",
    "ielts = float(input(\"Enter your IELTS score\"))\n",
    "print(\"you are eligible to go abroad for Study\" if ielts >= 6 else \"you need to struggle more and try again\")\n",
    "\n"
   ]
  },
  {
   "cell_type": "code",
   "execution_count": null,
   "id": "d2a8aa61",
   "metadata": {},
   "outputs": [],
   "source": []
  }
 ],
 "metadata": {
  "kernelspec": {
   "display_name": "base",
   "language": "python",
   "name": "python3"
  },
  "language_info": {
   "codemirror_mode": {
    "name": "ipython",
    "version": 3
   },
   "file_extension": ".py",
   "mimetype": "text/x-python",
   "name": "python",
   "nbconvert_exporter": "python",
   "pygments_lexer": "ipython3",
   "version": "3.11.4"
  }
 },
 "nbformat": 4,
 "nbformat_minor": 5
}
