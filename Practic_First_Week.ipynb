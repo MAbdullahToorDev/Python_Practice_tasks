{
 "cells": [
  {
   "cell_type": "markdown",
   "id": "a5dd5692",
   "metadata": {},
   "source": [
    "Prompt the user to enter the following information:\n",
    "\n",
    "First name :   \n",
    "Last name :   \n",
    "Age :   \n",
    "Favorite hobby :   \n",
    "Favorite programming language :   \n",
    "Store the user’s input in a dictionary with appropriate keys (e.g., \"first\", \"last\", \"age\", etc.).\n",
    "Create three lists:"
   ]
  },
  {
   "cell_type": "code",
   "execution_count": 19,
   "id": "307b1452",
   "metadata": {},
   "outputs": [
    {
     "name": "stdout",
     "output_type": "stream",
     "text": [
      "\n",
      " User Profile :\n",
      "{'First Name: ': 'qwe', 'Last Name: ': 'asd'}\n",
      "{'Age: ': 24}\n",
      "{'Favorite Hobby: ': 'qwe', 'Favorite Programming Language: ': 'asd'}\n"
     ]
    }
   ],
   "source": [
    "def user():\n",
    "    first_name = input(\"Enter your First Name :\")\n",
    "    last_name = input(\"Enter your Last Name :\")\n",
    "    age = int(input(\"Enter your Age :\"))\n",
    "    favorite_hobby = input(\" Enter your Favorite Hobby :\")\n",
    "    language = input(\"Enter your Favorite Programming Language :\")\n",
    "\n",
    "    dict_1 = {\"First Name: \":first_name,\"Last Name: \":last_name }\n",
    "    dict_2 = {\"Age: \":age}\n",
    "    dict_3 = {\"Favorite Hobby: \":favorite_hobby,\"Favorite Programming Language: \":language}\n",
    "\n",
    "    return (dict_1,dict_2,dict_3)\n",
    "\n",
    "\n",
    "\n",
    "user_data = user()\n",
    "print(\"\\n User Profile :\")\n",
    "for items in user_data:\n",
    "    print(items)\n"
   ]
  },
  {
   "cell_type": "markdown",
   "id": "bd50b8e9",
   "metadata": {},
   "source": [
    "Create three lists:   \n",
    "A list of greeting phrases (e.g., \"Welcome\", \"Greetings\", \"Hey there\")    \n",
    "A list of random compliments (e.g., \"brilliant\", \"outstanding\", \"resilient\", \"creative\")     \n",
    "A list of motivational quotes that include a {name} placeholder (e.g., \"Keep pushing, {name},       success is near!\")       \n",
    "Use the random library to:      \n",
    "Select one greeting       \n",
    "Select one compliment        \n",
    "Select one quote and format it with the user’s first name       "
   ]
  },
  {
   "cell_type": "code",
   "execution_count": 11,
   "id": "9e5039de",
   "metadata": {},
   "outputs": [
    {
     "name": "stdout",
     "output_type": "stream",
     "text": [
      "Welcome\n",
      "brilliant\n",
      "Keep pushing, Abdullah, success is near!\n"
     ]
    }
   ],
   "source": [
    "import random\n",
    "user_data = user()\n",
    "def greeding():\n",
    " greeting =[\"Welcome\",\"Greetings\",\"Hey there\"]\n",
    " compliments = [\"brilliant\",\"outstanding\",\"resilient\",\"creative\"]\n",
    " motivational_quotes = [\"Keep pushing, {name}, success is near!\"]\n",
    " chosen_greeting = random.choice(greeting)\n",
    " chosen_compliments = random.choice(compliments)\n",
    " chosen_motivation = random.choice(motivational_quotes).format(name = user_data[0][\"Last Name: \"])\n",
    "\n",
    " return (chosen_greeting,chosen_compliments,chosen_motivation)\n",
    "\n",
    "greet = greeding()\n",
    "for items in greet:\n",
    "    print(items)\n",
    " "
   ]
  },
  {
   "cell_type": "markdown",
   "id": "c1b0ccea",
   "metadata": {},
   "source": [
    "Define a function named generate_profile that:     \n",
    "Accepts the user dictionary and a greeting as arguments      \n",
    "Builds a personalized message using string concatenation and f-strings      \n",
    "Includes the randomly selected compliment and formatted quote      \n",
    "Adds logic to check if the user’s age is above or below 18 and change the tone of the message      accordingly     \n",
    " (e.g., \"You're on the path to greatness!\" vs \"Start young, stay curious!\")      \n",
    "Inside the function, format the user’s full name as Title Case, and make sure the hobby is shown in lowercase.        \n",
    "Return the final message block as a formatted introduction (multi-line string using \\n).      \n",
    "Print the result of calling generate_profile().      "
   ]
  },
  {
   "cell_type": "code",
   "execution_count": 26,
   "id": "54c93bfd",
   "metadata": {},
   "outputs": [
    {
     "name": "stdout",
     "output_type": "stream",
     "text": [
      "Greetings,Qwe Asd\n",
      "you are a outstanding, who loves qwe and like to code in asd.\n",
      "Keep pushing, asd, success is near!\n",
      "You're on the path to greatness!\n"
     ]
    }
   ],
   "source": [
    "def generate_profile(user_data,greet):\n",
    "       full_name = f\"{user_data[0]['First Name: '].title()} {user_data[0]['Last Name: '].title()}\"\n",
    "       hobby = user_data[2][\"Favorite Hobby: \"].lower()\n",
    "       age = user_data[1]['Age: ']\n",
    "       language = user_data[2]['Favorite Programming Language: ']\n",
    "\n",
    "       chosen_greeting, chosen_compliment, chosen_motivation = greet\n",
    "\n",
    "       age_message = \"You're on the path to greatness!\" if age >= 18 else (\"Start young, stay curious!\")\n",
    "       message = (\n",
    "           f\"{chosen_greeting},{full_name}\\n\"\n",
    "           f\"you are a {chosen_compliment}, who loves {hobby} and like to code in {language}.\\n\"\n",
    "           f\"{chosen_motivation}\\n\"\n",
    "           f\"{age_message}\"\n",
    "        )\n",
    "       return message\n",
    "\n",
    "\n",
    "\n",
    "user_data = user()\n",
    "greet = greeding()\n",
    "print(generate_profile(user_data,greet))\n",
    "\n",
    "\n",
    "\n",
    "\n",
    "   \n",
    "\n",
    "    "
   ]
  },
  {
   "cell_type": "code",
   "execution_count": null,
   "id": "965a65fe",
   "metadata": {},
   "outputs": [],
   "source": []
  }
 ],
 "metadata": {
  "kernelspec": {
   "display_name": "base",
   "language": "python",
   "name": "python3"
  },
  "language_info": {
   "codemirror_mode": {
    "name": "ipython",
    "version": 3
   },
   "file_extension": ".py",
   "mimetype": "text/x-python",
   "name": "python",
   "nbconvert_exporter": "python",
   "pygments_lexer": "ipython3",
   "version": "3.11.4"
  }
 },
 "nbformat": 4,
 "nbformat_minor": 5
}
